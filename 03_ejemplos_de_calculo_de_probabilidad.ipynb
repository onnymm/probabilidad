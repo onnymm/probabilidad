{
 "cells": [
  {
   "cell_type": "markdown",
   "metadata": {},
   "source": [
    "# Ejemplos de cálculo de probabilidad"
   ]
  },
  {
   "cell_type": "markdown",
   "metadata": {},
   "source": [
    "Para ganar más intuición sobre el uso de las probabilidades y sobre la manera en la que se calculan, veremos algunos ejemplos e ilustraremos cómo se pueden calcular por medio de Python"
   ]
  },
  {
   "cell_type": "markdown",
   "metadata": {},
   "source": [
    "## Correlaciones de eventos"
   ]
  },
  {
   "cell_type": "markdown",
   "metadata": {},
   "source": [
    "Vamos a considerar tres eventos aleatorios, como se muestran a continuación:\n",
    "\n",
    "- $A$ = {El resultado de lanzar un dado es 4}\n",
    "- $B$ = {El resultado de lanzar un dado es par}\n",
    "- $C$ = {El resultado de lanzar un dado es impar}\n",
    "\n",
    "Una cosa es preguntarnos sobre las probabilidades de cada uno de estos eventos sin tener que condicionar esto a la ocurrencia previa de otros eventos. Veamos la diferencia entre la probabilidad condicionada de alguno u otro evento y las probabilidades sin condicionar y ver qué conceptos surgen."
   ]
  },
  {
   "cell_type": "markdown",
   "metadata": {},
   "source": [
    "## Código Python para la lección"
   ]
  },
  {
   "cell_type": "markdown",
   "metadata": {},
   "source": [
    "El flujo de trabajo de instancias que genera esta clase en Python es el siguiente:\n",
    "1. La instancia recibe como parámetros de entrada una lista y una función de condición:\n",
    "    - *Lista:* La lista que se recibe como parámetro de entrada será un vector que contenga todas las posibles ocurrencias\n",
    "    - *Función:* Esta función contendrá una condición con la que definirá cada ocurrencia como exitosa o no exitosa.\n",
    "\n",
    "2. Para fines de consulta futuros, se almacena la condición para la instancia en un atributo de ésta, el cuál se llamará `condition`, igual que el parámetro de entrada.\n",
    "\n",
    "3. Se asigna el vector de ocurrencias totales como un atributo del objeto, llamado `total_ocurr`. Este contendrá exactamente el mismo vector de entrada cuando se crea la instancia.\n",
    "\n",
    "4. Se crea una *list comprehension* en la que se valida cada valor del atributo `total_ocurr` de la instancia por medio de la función `condition` recibida en la inicialización y sólo se toman los valores que cumplan con la condición. El resultado de esta lista se asigna al atributo `success_ocurr` de la instancia.\n",
    "\n",
    "5. Se hace un cálculo de la probabilidad de sucesos exitosos `success_ocurr` sobre los sucesos totales `total_occur` basados en la condición `condition` provista en la inicialización. El resultado sera un número flotante entre 0 y 1 donde 0 es la imposibilidad de sucesos exitosos y 1 la totalidad de sucesos existosos. Este valor se asigna al atributo `prob` de la instancia.\n",
    "\n",
    "6. En caso de que el vector de entrada o el vector de salida estén vacío, directamente se generará un vector vacío como sucesos exitosos y también se devolverá el resultado en 0 para el cálculo decimal de la probabilidad.\n",
    "\n",
    "7. Para fines visuales, se formatea en texto la descripción de la cantidad de los sucesos marcados como exitosos sobre la cantidad de sucesos totales. Esto se asigna al atributo `prob_repr` de la instancia."
   ]
  },
  {
   "cell_type": "code",
   "execution_count": 11,
   "metadata": {},
   "outputs": [],
   "source": [
    "# Se define una clase en la que se genera una instancia llamada Probability\n",
    "class Probability():\n",
    "\n",
    "    # Inicialización para una nueva instancia tipo Probability\n",
    "    def __init__(\n",
    "        # Se recibe la lista de todas las posibles ocurrencias y la función de condición como parámetros\n",
    "        self, total_ocurr: list, condition):\n",
    "\n",
    "        # Se almacena la condición que define los sucesos como exitosos o no existosos\n",
    "        self.condition = condition\n",
    "\n",
    "        # Asignación del vector de sucesos totales a la instancia\n",
    "        self.total_ocurr = total_ocurr\n",
    "\n",
    "        # Validación de existencia de sucesos\n",
    "        if len(self.total_ocurr):\n",
    "            # Generación de vector de sucesos existosos\n",
    "            self.success_ocurr = [i for i in self.total_ocurr if condition(i)]\n",
    "        else:\n",
    "            # Se genera el vector de sucesos exitosos como vacío por defecto en caso de no haber sucesos totales.\n",
    "            self.success_ocurr = []\n",
    "\n",
    "            # Validación de existencia de sucesos exitosos para evitar errores por división con 0\n",
    "        if len(self.success_ocurr):\n",
    "            # Cálculo decimal de la probabilidad basados en la condición provista\n",
    "            self.prob = len(self.success_ocurr) / len(self.total_ocurr)\n",
    "        else:\n",
    "            # Cálculo decimal para evitar división en cero\n",
    "            self.prob = 0.0\n",
    "\n",
    "        # Formateo en texto para representación de la probabilidad en una división\n",
    "        self.prob_repr = f\"{len(self.success_ocurr)}/{len(self.total_ocurr)}\""
   ]
  },
  {
   "cell_type": "markdown",
   "metadata": {},
   "source": [
    "Se declara el espacio muestral del dado"
   ]
  },
  {
   "cell_type": "code",
   "execution_count": 3,
   "metadata": {},
   "outputs": [],
   "source": [
    "dice_sample_space = [1, 2, 3, 4, 5, 6]"
   ]
  },
  {
   "cell_type": "markdown",
   "metadata": {},
   "source": [
    "Se declaran las funciones de condición para los ejemplos de $A$, $B$ y $C$ respectivamente"
   ]
  },
  {
   "cell_type": "code",
   "execution_count": 4,
   "metadata": {},
   "outputs": [],
   "source": [
    "# Es 4\n",
    "is_4 = lambda x: x == 4\n",
    "\n",
    "# Es par\n",
    "is_pair = lambda x: x % 2 == 0\n",
    "\n",
    "# Es impar\n",
    "not_pair = lambda x: x % 2 == 1"
   ]
  },
  {
   "cell_type": "markdown",
   "metadata": {},
   "source": [
    "Se crean las 3 instancias de los casos de $A$, $B$ y $C$"
   ]
  },
  {
   "cell_type": "code",
   "execution_count": 5,
   "metadata": {},
   "outputs": [],
   "source": [
    "# El resultado de lanzar un dado es 4\n",
    "a = Probability(dice_sample_space, is_4)\n",
    "\n",
    "# El resultado de lanzar un dado es par\n",
    "b = Probability(dice_sample_space, is_pair)\n",
    "\n",
    "# El resultado de lanzar un dado es impar\n",
    "c = Probability(dice_sample_space, not_pair)"
   ]
  },
  {
   "cell_type": "code",
   "execution_count": 6,
   "metadata": {},
   "outputs": [],
   "source": [
    "def show_stats(case: Probability, name: str):\n",
    "    print(f\"----Descripción del caso {name}----\")\n",
    "    print(f\"El espacio muestral de {name} es de {len(case.total_ocurr)} ocurrencias\")\n",
    "    print(f\"Los sucesos exitosos son: {case.success_ocurr}\")\n",
    "    print(f\"La probabilidad calculada a dos decimales es de {case.prob:.2f}\")\n",
    "    print(f\"La fracción de la probabilidad calculada es {case.prob_repr}\\n\\n\")"
   ]
  },
  {
   "cell_type": "markdown",
   "metadata": {},
   "source": [
    "Se procede a mostrar el resultado de los tres casos"
   ]
  },
  {
   "cell_type": "code",
   "execution_count": 7,
   "metadata": {},
   "outputs": [
    {
     "name": "stdout",
     "output_type": "stream",
     "text": [
      "----Descripción del caso A----\n",
      "El espacio muestral de A es de 6 ocurrencias\n",
      "Los sucesos exitosos son: [4]\n",
      "La probabilidad calculada a dos decimales es de 0.17\n",
      "La fracción de la probabilidad calculada es 1/6\n",
      "\n",
      "\n",
      "----Descripción del caso B----\n",
      "El espacio muestral de B es de 6 ocurrencias\n",
      "Los sucesos exitosos son: [2, 4, 6]\n",
      "La probabilidad calculada a dos decimales es de 0.50\n",
      "La fracción de la probabilidad calculada es 3/6\n",
      "\n",
      "\n",
      "----Descripción del caso C----\n",
      "El espacio muestral de C es de 6 ocurrencias\n",
      "Los sucesos exitosos son: [1, 3, 5]\n",
      "La probabilidad calculada a dos decimales es de 0.50\n",
      "La fracción de la probabilidad calculada es 3/6\n",
      "\n",
      "\n"
     ]
    }
   ],
   "source": [
    "show_stats(a, \"A\")\n",
    "show_stats(b, \"B\")\n",
    "show_stats(c, \"C\")"
   ]
  },
  {
   "cell_type": "markdown",
   "metadata": {},
   "source": [
    "## Cálculo de probabilidades"
   ]
  },
  {
   "cell_type": "markdown",
   "metadata": {},
   "source": [
    "Dados nuestros tres eventos, consideremos en primer lugar una probabilidad sencilla, es decir, ¿Cuál es la probabilidad de que suceda $A$ sin ninguna información adicional? Es fácil ver que, con un dado, las posibilidades son 6 mientras que 4 es el único suceso exitoso, es decir, tenemos una probabilidad de $\\frac{1}{6}$.\n",
    "\n",
    "$$P(A) = \\frac{1}{6}$$"
   ]
  },
  {
   "cell_type": "code",
   "execution_count": 8,
   "metadata": {},
   "outputs": [
    {
     "name": "stdout",
     "output_type": "stream",
     "text": [
      "----Descripción del caso A----\n",
      "El espacio muestral de A es de 6 ocurrencias\n",
      "Los sucesos exitosos son: [4]\n",
      "La probabilidad calculada a dos decimales es de 0.17\n",
      "La fracción de la probabilidad calculada es 1/6\n",
      "\n",
      "\n"
     ]
    }
   ],
   "source": [
    "show_stats(a, \"A\")"
   ]
  },
  {
   "cell_type": "markdown",
   "metadata": {},
   "source": [
    "Entendiendo esto, veamos que sucede si ahora nos preguntamos cuál es la probabilidad de que suceda $A$ sabiendo que ya ha sucedido B, es decir, que el resultado del dado sea 4 sabiendo que éste ya es un número par?\n",
    "\n",
    "$$ P(A|B) = ? $$\n",
    "\n",
    "Gramaticalmente estamos traduciendo que hemos lanzado el dado y sólo sabemos que el resultado es un número par y esa condición está reduciendo el espacio muestral así que el número de posibilidades ya no es 6 sino 3:\n",
    "\n",
    "$$ \\{2, 4, 6\\} $$"
   ]
  },
  {
   "cell_type": "code",
   "execution_count": 9,
   "metadata": {},
   "outputs": [
    {
     "name": "stdout",
     "output_type": "stream",
     "text": [
      "----Descripción del caso A dado B----\n",
      "El espacio muestral de A dado B es de 3 ocurrencias\n",
      "Los sucesos exitosos son: [4]\n",
      "La probabilidad calculada a dos decimales es de 0.33\n",
      "La fracción de la probabilidad calculada es 1/3\n",
      "\n",
      "\n"
     ]
    }
   ],
   "source": [
    "# Asignamos como espacio muestral los sucesos exitosos de B que son números pares\n",
    "#   y la condición que A tiene que validar en todos sus posibles sucesos\n",
    "case1 = Probability(b.success_ocurr, a.condition)\n",
    "\n",
    "# Impresión de resultados\n",
    "show_stats(case1, \"A dado B\")"
   ]
  },
  {
   "cell_type": "markdown",
   "metadata": {},
   "source": [
    "$$ P(A|B) = \\frac{1}{3} $$"
   ]
  },
  {
   "cell_type": "markdown",
   "metadata": {},
   "source": [
    "En el caso de $P(A|B)$, de estos 3 sucesos, sólo uno corresponde a 4. Signica que esta probabilidad condicional que da como resultado $\\frac{1}{3}$ y que es mayor que $\\frac{1}{6}$ en el caso de $A$ por sí solo, evidencía que el hecho de que $B$ haya ocurrido aumentó la probabilidad de que ocurra $A$ y entonces es cuando decimos que los eventos $A$ y $B$ están **positivamente correlacionados**. Este es el concepto de **correlación**. En este caso, la ocurrencia de un evento incrementa la probabilidad de ocurrencia del otro."
   ]
  },
  {
   "cell_type": "markdown",
   "metadata": {},
   "source": [
    "¿Qué sucede si por otro lado nos preguntamos sobre cuál es la probabilidad de suceda $A$ sabiendo que ha sucedido $C$?\n",
    "\n",
    "$$ P(A|C) = ? $$"
   ]
  },
  {
   "cell_type": "code",
   "execution_count": 10,
   "metadata": {},
   "outputs": [
    {
     "name": "stdout",
     "output_type": "stream",
     "text": [
      "----Descripción del caso A dado C----\n",
      "El espacio muestral de A dado C es de 3 ocurrencias\n",
      "Los sucesos exitosos son: []\n",
      "La probabilidad calculada a dos decimales es de 0.00\n",
      "La fracción de la probabilidad calculada es 0/3\n",
      "\n",
      "\n"
     ]
    }
   ],
   "source": [
    "# Asignamos como espacio muestral los sucesos exitosos de C que son números impares\n",
    "#   y la condición que A tiene que validar en todos sus posibles sucesos\n",
    "case2 = Probability(c.success_ocurr, a.condition)\n",
    "\n",
    "# Impresión de resultados\n",
    "show_stats(case2, \"A dado C\")"
   ]
  },
  {
   "cell_type": "markdown",
   "metadata": {},
   "source": [
    "Si ya sabemos que sucedió $C$, es decir, el resultado es impar a lo que corresponden las ocurrencias $\\{1, 3, 5\\}$ y la condición de $A$ es que el resultado sea 4, esto significa que 4 no está dentro de las ocurrencias de $C$ lo que nos indica que estos dos eventos son excluyentes. Por lo tanto, la condición de $C$ reduce el espacio muestral a 3 pero los eventos exitosos para $A$ son 0, dándonos una probabilidad de 0 en 3.\n",
    "\n",
    "$$ P(A|C) = \\frac{0}{3} $$\n",
    "\n",
    "En este caso, lo que estamos observando es que la ocurrencia de C ha reducido dramáticamente la probabilidad de $A$ y entonces podemos decir que $A$ y $C$ están negativamente correlacionados.\n",
    "\n",
    "Sin embargo, tenemos que considerar que, el hecho de que dos eventos sean excluyentes no significa que sean independientes. Todo lo contrario, son altamente dependientes. \n",
    "\n",
    "Con esta demostración, evidenciamos cuando dos eventos están positivamente correlacionados o negativamente correlacionados."
   ]
  }
 ],
 "metadata": {
  "kernelspec": {
   "display_name": "env",
   "language": "python",
   "name": "python3"
  },
  "language_info": {
   "codemirror_mode": {
    "name": "ipython",
    "version": 3
   },
   "file_extension": ".py",
   "mimetype": "text/x-python",
   "name": "python",
   "nbconvert_exporter": "python",
   "pygments_lexer": "ipython3",
   "version": "3.12.2"
  }
 },
 "nbformat": 4,
 "nbformat_minor": 2
}
