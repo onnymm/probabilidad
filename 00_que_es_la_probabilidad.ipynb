{
 "cells": [
  {
   "cell_type": "markdown",
   "metadata": {},
   "source": [
    "# ¿Qué es la probabilidad?"
   ]
  },
  {
   "cell_type": "markdown",
   "metadata": {},
   "source": [
    "Matemáticas para Data Science: Probabilidad"
   ]
  },
  {
   "cell_type": "markdown",
   "metadata": {},
   "source": [
    "## ¿Por qué es necesario este concepto de probabilidad?"
   ]
  },
  {
   "cell_type": "markdown",
   "metadata": {},
   "source": [
    "Comencemos haciéndonos una pregunta: **¿En qué situaciones necesitamos usar la probabilidad?** Para ello tenemos que preguntarnos sobre el concepto de ésta.\n",
    "\n",
    "La probabilidad nace de la incertidumbre y la necesidad de cuantificarla, esto, para tomar decisiones con información incompleta. Los juegos de azar son un perfecto ejemplo de esto. ¿Por qué? Porque no podemos predecir el resultado con un juego de cartas, con dados, en un casino, etc., y se debe a que básicamente son situaciones que tienen un grado de complejidad en el cual es imposible que contemos con las variables suficientes y con todo el conocimiento necesario como para predecir, por ejemplo, dependiendo si lanzamos el dado de una forma u otra, o se juega con las cartas de una forma u otra vamos a obtener cierto resultado. Y a eso es a lo que llamamos **incertidumbre**: toma de decisiones con información incompleta.\n",
    "\n",
    "Esto nos recuerda una frase muy famosa de Henri Poincaré, uno de los últimos grandes genios del siglo pasado. Él decía lo siguiente:\n",
    "*\"El azar no es más que la medida de nuestra ignorancia. Los fenómenos fortuitos son, por definición, aquellos cuyas leyes o causas simplemente ignoramos\"*\n",
    "\n",
    "Es decir, para Poincaré, la incertidumbre es sólo como una ilusión, consecuencia precisamente de la falta de información. Pero si nosotros tuviéramos la capacidad de tener toda la información necesaria de una situación o de un sistema cualquiera sobre el que quisiéramos hacer una predicción, podríamos hacerla. Así que en realidad no es que exista el azar sino que éste se debe a nuestra incapacidad de tener la información suficiente sobre un problema en específico o una situación particular de la realidad. Y al estar limitados de esta manera nos vemos obligados a encerrar todas estas situaciones en este concepto de azar y en la toma de decisiones como incertidumbre. "
   ]
  },
  {
   "cell_type": "markdown",
   "metadata": {},
   "source": [
    "Así pues, al vivir en una realidad donde siempre o casi siempre la toma de decisiones implica información incompleta, los matemáticos durante muchos años se propusieron a desarrollar un esquema de trabajo para cuantificar esta incertidumbre y es de aquí que nace el área de la probabilidad dentro de lo que entendemos como la estadística."
   ]
  },
  {
   "cell_type": "markdown",
   "metadata": {},
   "source": [
    "Es por esto que en matemáticas decimos que la probabilidad se define como ese lenguaje y conjunto de herramientas que nos permite cuantificar la incertidumbre y es así como vamos a entender la palabra probabilidad, como área de las matemáticas. Sin embargo, el concepto matemático puntual de probabilidad tiene algunas sutilezas que conducen con frecuencia a confusiones."
   ]
  },
  {
   "cell_type": "markdown",
   "metadata": {},
   "source": [
    "## Los axiomas de la probabilidad"
   ]
  },
  {
   "cell_type": "markdown",
   "metadata": {},
   "source": [
    "Primeramente necesitamos definir cuáles son los axiomas de la probabilidad, entender cuáles son los elementos esenciales. Esto tiene que hacerse en todas las área de la matemática. Todo conjunto de lógica tiene que estar basado en un conjunto de axiomas que es un conjunto de sentencias o afirmaciones lógicas que no son derivables de algo más fundamental, es decir, que no requieren demostración porque simplemente los asumimos como verdad y es así como comienza todo en las matemáticas. En el caso de la probabilidad debemos entender varios conceptos."
   ]
  },
  {
   "cell_type": "markdown",
   "metadata": {},
   "source": [
    "$$ P = \\frac{\\text{N° de sucesos exitosos}}{\\text{N° de sucesos totales}} $$"
   ]
  }
 ],
 "metadata": {
  "language_info": {
   "name": "python"
  }
 },
 "nbformat": 4,
 "nbformat_minor": 2
}
