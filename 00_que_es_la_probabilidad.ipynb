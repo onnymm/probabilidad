{
 "cells": [
  {
   "cell_type": "markdown",
   "metadata": {},
   "source": [
    "# ¿Qué es la probabilidad?"
   ]
  },
  {
   "cell_type": "markdown",
   "metadata": {},
   "source": [
    "Matemáticas para Data Science: Probabilidad"
   ]
  },
  {
   "cell_type": "markdown",
   "metadata": {},
   "source": [
    "## ¿Por qué es necesario este concepto de probabilidad?"
   ]
  },
  {
   "cell_type": "markdown",
   "metadata": {},
   "source": [
    "Comencemos haciéndonos una pregunta: **¿En qué situaciones necesitamos usar la probabilidad?** Para ello tenemos que preguntarnos sobre el concepto de ésta.\n",
    "\n",
    "La probabilidad nace de la incertidumbre y la necesidad de cuantificarla, esto, para tomar decisiones con información incompleta. Los juegos de azar son un perfecto ejemplo de esto. ¿Por qué? Porque no podemos predecir el resultado con un juego de cartas, con dados, en un casino, etc., y se debe a que básicamente son situaciones que tienen un grado de complejidad en el cual es imposible que contemos con las variables suficientes y con todo el conocimiento necesario como para predecir, por ejemplo, dependiendo si lanzamos el dado de una forma u otra, o se juega con las cartas de una forma u otra vamos a obtener cierto resultado. Y a eso es a lo que llamamos **incertidumbre**: toma de decisiones con información incompleta.\n",
    "\n",
    "Esto nos recuerda una frase muy famosa de Henri Poincaré, uno de los últimos grandes genios del siglo pasado. Él decía lo siguiente:\n",
    "*\"El azar no es más que la medida de nuestra ignorancia. Los fenómenos fortuitos son, por definición, aquellos cuyas leyes o causas simplemente ignoramos\"*\n",
    "\n",
    "Es decir, para Poincaré, la incertidumbre es sólo como una ilusión, consecuencia precisamente de la falta de información. Pero si nosotros tuviéramos la capacidad de tener toda la información necesaria de una situación o de un sistema cualquiera sobre el que quisiéramos hacer una predicción, podríamos hacerla. Así que en realidad no es que exista el azar sino que éste se debe a nuestra incapacidad de tener la información suficiente sobre un problema en específico o una situación particular de la realidad. Y al estar limitados de esta manera nos vemos obligados a encerrar todas estas situaciones en este concepto de azar y en la toma de decisiones como incertidumbre. \n",
    "\n",
    "Así pues, al vivir en una realidad donde siempre o casi siempre la toma de decisiones implica información incompleta, los matemáticos durante muchos años se propusieron a desarrollar un esquema de trabajo para cuantificar esta incertidumbre y es de aquí que nace el área de la probabilidad dentro de lo que entendemos como la estadística.\n",
    "\n",
    "Es por esto que en matemáticas decimos que la probabilidad se define como ese lenguaje y conjunto de herramientas que nos permite cuantificar la incertidumbre y es así como vamos a entender la palabra probabilidad, como área de las matemáticas. Sin embargo, el concepto matemático puntual de probabilidad tiene algunas sutilezas que conducen con frecuencia a confusiones."
   ]
  },
  {
   "cell_type": "markdown",
   "metadata": {},
   "source": [
    "## Los axiomas de la probabilidad"
   ]
  },
  {
   "cell_type": "markdown",
   "metadata": {},
   "source": [
    "Primeramente necesitamos definir cuáles son los axiomas de la probabilidad, entender cuáles son los elementos esenciales. Esto tiene que hacerse en todas las área de la matemática. Todo conjunto de lógica tiene que estar basado en un conjunto de axiomas que es un conjunto de sentencias o afirmaciones lógicas que no son derivables de algo más fundamental, es decir, que no requieren demostración porque simplemente los asumimos como verdad y es así como comienza todo en las matemáticas. En el caso de la probabilidad debemos entender varios conceptos.\n",
    "\n",
    "$$ P = \\frac{\\text{N° de sucesos exitosos}}{\\text{N° de sucesos totales}} $$\n",
    "\n",
    "En cualquier libro o curso de probabilidad nos encontraremos y nos daremos cuenta de que la definición más simple de lo que es una probabilidad es una división de dos cantidades: Número de sucesos exitosos sobre número de sucesos totales. Por ejemplo cuando lanzamos un dado el resultado de éste son 6 posibilidades. Cada una de esas posibilidades representa 1 suceso, pero los sucesos totales son 6. Entonces cuando nos preguntamos ¿cuál es la probabilidad de que, por ejemplo, el dado caiga en 2? Siendo que 2 es una sola opción de 6, entonces decimos que 2 es una probabilidad de $\\frac{1}{6}$. Pero esto tiene una sutileza que conduce a dos escuelas de pensamiento en la estadística, en las cuales iremos profundizando más adelante. Una de éstas es la escuela Frecuentista y la otra es la escuela Bayesiana. Si nosotros definimos la probabilidad de que el dado caiga en 2 es de $\\frac{1}{6}$ implícitamente estamos considerando, aunque no parezca evidente, que todas las caras del dado son igualmente probables. Por ejemplo, si el dado cae en 2, es una probabilidad de $\\frac{1}{6}$, en 3 es de $\\frac{1}{6}$ , en 4 es de $\\frac{1}{6}$ y así con todos los posibles resultados. Y eso nos da la intuición de que estamos asumiendo a priori que todas las caras son igualmente probables. \n",
    "\n",
    "Haz un experimento ahora mismo, si te es posible, con una moneda (Para mayor facilidad). En una moneda tenemos dos posibles resultados al tirarla y éstas son que la moneda caiga en cara o sol, o sea $\\frac{1}{2}$ para cara y $\\frac{1}{2}$ para sol. Pero ¿qué tan cierto es esto? Depende de lo que interpretemos lo que es un suceso o el número de sucesos exitosos. Lanza la moneda 10 veces y si la probabilidad es como la estamos entendiendo en este momento, de los 10 lanzamientos que realices, 5 deberían caer en cara y 5 en sol. \n",
    "\n",
    "Si realizaste el experimento seguramente te estés preguntando por qué no obtuviste 5 resultados en cara y 5 en sol, probablemente tuviste 4 en alguna de las caras y 6 en la otra o incluso fueron 3 y 7 resultados y no 5 y 5 (aunque también es probable que sí hayas obtenido 5 y 5). ¿Esto qué quiere decir? Aquí es donde volvemos al hecho de que existen dos escuelas del pensamiento de la probabilidad: La Frecuentista y la Bayesiana. La primera de la que hablaremos es la Frecuentista. Esta escuela del pensamiento de la probabilidad nos dice que estos números a los que nosotros estamos llamando probabilidades de las caras de la moneda, ya sea cara o sol, son números que sólo se alcanzan haciendo una cantidad infinita de lanzamientos, es decir, si lanzas la moneda 10, 100, 1,000 o un número infinito de veces, la proporción del número de lanzamientos exitosos sobre el número de lanzamientos totales tiende a $\\frac{1}{2}$. Claro, no hay manera de probar esto y es por ello que denominamos este hecho como un axioma.\n",
    "\n",
    "Las probabilidades sobre estos posibles sucesos que llamamos elementales son las ocurrencias más básicas de un evento probabilístico. Una moneda sólo tiene dos posiblidades: cara o sol. Un dado tiene 6 opciones: 1, 2, 3, 4, 5 o 6. Y es por ello que tenemos que diferenciar entre un suceso elemental y un suceso en general. \n"
   ]
  },
  {
   "cell_type": "markdown",
   "metadata": {},
   "source": [
    "### Suceso elemental\n",
    "\n",
    "Lo que podemos entender como un suceso elemental es, por ejemplo, *\"El resultado de lanzar un dado es 4\"*. Es elemental porque 4 solo sucede de una manera, es decir, el dado cae en 4 y punto.\n"
   ]
  },
  {
   "cell_type": "markdown",
   "metadata": {},
   "source": [
    "### Suceso general\n",
    "\n",
    "Un suceso general sería algo como, por ejemplo, *\"El resultado de lanzar un dado es par\"*. No es elemental porque en realidad es la unión de varios sucesos que ya definimos elementales. Par quiere decir que, para el caso del dado, puede ser un 2, un 4 o un 6.\n"
   ]
  },
  {
   "cell_type": "markdown",
   "metadata": {},
   "source": [
    "De esta manera podemos comenzar a definir conceptos mucho más específicos en probabilidad. El uso de los sucesos y los sucesos elementales se puede entender mejor en el siguiente diagrama:\n",
    "\n",
    "![image.png](https://deepnote.com/publish/483642c8-6516-4d38-ae24-1cc7083f43a4/file?path=%2Fimages%2Fsample_space.png)"
   ]
  },
  {
   "cell_type": "markdown",
   "metadata": {},
   "source": [
    "Cuando tenemos un evento probabilístico tenemos algo que en realidad llamamos el **espacio muestral** que es un espacio en el cual están incluidas todas las posibles ocurrencias de un evento aleatorio. Por ejemplo, el dado tendría un espacio de 6 elementos, es decir, las 6 caras en las cuales éste puede caer. A cada uno de estos elementos del espacio muestral es a lo que justamente estamos llamando los **sucesos elementales**.\n",
    "\n",
    "En probabilidad entendemos que todo evento, problema o variable aleatoria está descrito por un espacio muestral que contiene elementos que son todas las posibles ocurrencias de éste. En este sentido, a cada uno de esos elementos del espacio muestral también asignamos un número que es como una propiedad intrínseca. En el diagrama podemos observar que cada elemento, en este caso, cara del dado tiene el elemento $\\frac{1}{6}$, es decir, que cada cara es igualmente probable y esto lo estamos asumiendo como un axioma. Este tipo de probabilidad fundamental sobre cada suceso elemental de un espacio muestral está definido como las probabilidades de cada ocurrencia y es un axioma porque, como mencionamos anteriormente, en la vida real las cosas no suceden así, sino que es un límite teórico infinito en el que se hacen infinitos intentos de una situación en particular. Como es algo abstracto lo asumimos cierto dentro de un esquema que llamamos en matemáticas axiomático, es decir, la probabilidad hace parte de los axiomas y esas propiedades intrínsecas de una situación aleatoria.\n",
    "\n",
    "La probabilidad como número que se asigna a cada posible ocurrencia de un sistema aleatorio tiene varias propiedades y estas propiedades tienen que cumplirse para que tenga sentido.\n",
    "\n",
    "$$ 0 \\le{P} \\le{1} $$\n",
    "\n",
    "Las probabilidades, como nosotros ya intuimos desde pequeños con la experiencia que tenemos día a día tienen que ser números que vayan desde el 0% al 100%, es decir, desde una imposibilidad hasta una total certeza, lo que se traduce a un rango de 0 a 1.\n",
    "\n",
    "$$ \\text{certeza} \\rightarrow P = 1 $$\n",
    "\n",
    "Un evento totalmente certero lo llamamos como Probabilidad igual a 1\n",
    "\n",
    "$$ \\text{imposibilidad} \\rightarrow P = 0 $$\n",
    "\n",
    "Un evento totalmente imposible lo llamamos como Probabilidad igual a 0\n",
    "\n",
    "$$ \\text{disyuntos} \\rightarrow P(A \\cup B) = P(A) + P(B) $$\n",
    "\n",
    "Cuando tenemos dos eventos disyuntos, por ejemplo 2 o 4, la probabilidad de que éstos ocurran es la suma de las probabilidades de cada uno. Son eventos disyuntos porque es imposible que el dado caiga en ambos al mismo tiempo. ¿Cuál es la probabilidad de que el dado caiga en 2 o 4? La respuesta es $\\frac{1}{6}+\\frac{1}{6} = \\frac{2}{6}$\n",
    "\n",
    "De esta manera ya hemos definido los axiomas de la probabilidad.\n",
    "\n",
    "Para concluir, tenemos que preguntarnos qué es realmente la probabilidad. Muchos dirán que *es una creencia que tenemos sobre la ocurrencia de eventos elementales* porque no hay manera de probarlo realmente, como mencionamos, desde la perspectiva Frecuentista así que la probabilidad se intuye como un axioma en un conjunto de reglas que nos permite cuantificar la incertidumbre."
   ]
  }
 ],
 "metadata": {
  "language_info": {
   "name": "python"
  }
 },
 "nbformat": 4,
 "nbformat_minor": 2
}
