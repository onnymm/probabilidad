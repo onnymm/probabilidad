{
 "cells": [
  {
   "cell_type": "code",
   "execution_count": 1,
   "metadata": {},
   "outputs": [],
   "source": [
    "import pandas as pd\n",
    "import numpy as np"
   ]
  },
  {
   "cell_type": "code",
   "execution_count": 8,
   "metadata": {},
   "outputs": [],
   "source": [
    "a = [i for i in range(1, 7)]\n",
    "b = [i for i in range(1, 7)]"
   ]
  },
  {
   "cell_type": "code",
   "execution_count": 7,
   "metadata": {},
   "outputs": [],
   "source": [
    "def p(dado):\n",
    "    success = [i for i in a if i % 2 == 0]\n",
    "    return len(success) / len(dado)"
   ]
  },
  {
   "cell_type": "code",
   "execution_count": 11,
   "metadata": {},
   "outputs": [],
   "source": [
    "def prob_conj(dado1, dado2):\n",
    "    return p(dado1) * p(dado2)"
   ]
  },
  {
   "cell_type": "code",
   "execution_count": 12,
   "metadata": {},
   "outputs": [
    {
     "data": {
      "text/plain": [
       "0.25"
      ]
     },
     "execution_count": 12,
     "metadata": {},
     "output_type": "execute_result"
    }
   ],
   "source": [
    "prob_conj(a, b)"
   ]
  },
  {
   "cell_type": "code",
   "execution_count": null,
   "metadata": {},
   "outputs": [],
   "source": [
    "def prob_cond(dado1, dado2):\n",
    "    cond = "
   ]
  },
  {
   "cell_type": "code",
   "execution_count": 17,
   "metadata": {},
   "outputs": [],
   "source": [
    "a = {i: {j: j % 2 == 0 for j in range(1, 7)} for i in range(1, 7)}"
   ]
  },
  {
   "cell_type": "code",
   "execution_count": 19,
   "metadata": {},
   "outputs": [],
   "source": [
    "df_a = pd.DataFrame(a)"
   ]
  },
  {
   "cell_type": "code",
   "execution_count": 21,
   "metadata": {},
   "outputs": [
    {
     "data": {
      "text/html": [
       "<div>\n",
       "<style scoped>\n",
       "    .dataframe tbody tr th:only-of-type {\n",
       "        vertical-align: middle;\n",
       "    }\n",
       "\n",
       "    .dataframe tbody tr th {\n",
       "        vertical-align: top;\n",
       "    }\n",
       "\n",
       "    .dataframe thead th {\n",
       "        text-align: right;\n",
       "    }\n",
       "</style>\n",
       "<table border=\"1\" class=\"dataframe\">\n",
       "  <thead>\n",
       "    <tr style=\"text-align: right;\">\n",
       "      <th></th>\n",
       "      <th>1</th>\n",
       "      <th>2</th>\n",
       "      <th>3</th>\n",
       "      <th>4</th>\n",
       "      <th>5</th>\n",
       "      <th>6</th>\n",
       "    </tr>\n",
       "  </thead>\n",
       "  <tbody>\n",
       "    <tr>\n",
       "      <th>1</th>\n",
       "      <td>False</td>\n",
       "      <td>True</td>\n",
       "      <td>False</td>\n",
       "      <td>True</td>\n",
       "      <td>False</td>\n",
       "      <td>True</td>\n",
       "    </tr>\n",
       "    <tr>\n",
       "      <th>2</th>\n",
       "      <td>False</td>\n",
       "      <td>True</td>\n",
       "      <td>False</td>\n",
       "      <td>True</td>\n",
       "      <td>False</td>\n",
       "      <td>True</td>\n",
       "    </tr>\n",
       "    <tr>\n",
       "      <th>3</th>\n",
       "      <td>False</td>\n",
       "      <td>True</td>\n",
       "      <td>False</td>\n",
       "      <td>True</td>\n",
       "      <td>False</td>\n",
       "      <td>True</td>\n",
       "    </tr>\n",
       "    <tr>\n",
       "      <th>4</th>\n",
       "      <td>False</td>\n",
       "      <td>True</td>\n",
       "      <td>False</td>\n",
       "      <td>True</td>\n",
       "      <td>False</td>\n",
       "      <td>True</td>\n",
       "    </tr>\n",
       "    <tr>\n",
       "      <th>5</th>\n",
       "      <td>False</td>\n",
       "      <td>True</td>\n",
       "      <td>False</td>\n",
       "      <td>True</td>\n",
       "      <td>False</td>\n",
       "      <td>True</td>\n",
       "    </tr>\n",
       "    <tr>\n",
       "      <th>6</th>\n",
       "      <td>False</td>\n",
       "      <td>True</td>\n",
       "      <td>False</td>\n",
       "      <td>True</td>\n",
       "      <td>False</td>\n",
       "      <td>True</td>\n",
       "    </tr>\n",
       "  </tbody>\n",
       "</table>\n",
       "</div>"
      ],
      "text/plain": [
       "       1     2      3     4      5     6\n",
       "1  False  True  False  True  False  True\n",
       "2  False  True  False  True  False  True\n",
       "3  False  True  False  True  False  True\n",
       "4  False  True  False  True  False  True\n",
       "5  False  True  False  True  False  True\n",
       "6  False  True  False  True  False  True"
      ]
     },
     "execution_count": 21,
     "metadata": {},
     "output_type": "execute_result"
    }
   ],
   "source": [
    "df_b = df_a.T\n",
    "df_b"
   ]
  },
  {
   "cell_type": "code",
   "execution_count": 22,
   "metadata": {},
   "outputs": [
    {
     "data": {
      "text/html": [
       "<div>\n",
       "<style scoped>\n",
       "    .dataframe tbody tr th:only-of-type {\n",
       "        vertical-align: middle;\n",
       "    }\n",
       "\n",
       "    .dataframe tbody tr th {\n",
       "        vertical-align: top;\n",
       "    }\n",
       "\n",
       "    .dataframe thead th {\n",
       "        text-align: right;\n",
       "    }\n",
       "</style>\n",
       "<table border=\"1\" class=\"dataframe\">\n",
       "  <thead>\n",
       "    <tr style=\"text-align: right;\">\n",
       "      <th></th>\n",
       "      <th>1</th>\n",
       "      <th>2</th>\n",
       "      <th>3</th>\n",
       "      <th>4</th>\n",
       "      <th>5</th>\n",
       "      <th>6</th>\n",
       "    </tr>\n",
       "  </thead>\n",
       "  <tbody>\n",
       "    <tr>\n",
       "      <th>1</th>\n",
       "      <td>False</td>\n",
       "      <td>False</td>\n",
       "      <td>False</td>\n",
       "      <td>False</td>\n",
       "      <td>False</td>\n",
       "      <td>False</td>\n",
       "    </tr>\n",
       "    <tr>\n",
       "      <th>2</th>\n",
       "      <td>False</td>\n",
       "      <td>True</td>\n",
       "      <td>False</td>\n",
       "      <td>True</td>\n",
       "      <td>False</td>\n",
       "      <td>True</td>\n",
       "    </tr>\n",
       "    <tr>\n",
       "      <th>3</th>\n",
       "      <td>False</td>\n",
       "      <td>False</td>\n",
       "      <td>False</td>\n",
       "      <td>False</td>\n",
       "      <td>False</td>\n",
       "      <td>False</td>\n",
       "    </tr>\n",
       "    <tr>\n",
       "      <th>4</th>\n",
       "      <td>False</td>\n",
       "      <td>True</td>\n",
       "      <td>False</td>\n",
       "      <td>True</td>\n",
       "      <td>False</td>\n",
       "      <td>True</td>\n",
       "    </tr>\n",
       "    <tr>\n",
       "      <th>5</th>\n",
       "      <td>False</td>\n",
       "      <td>False</td>\n",
       "      <td>False</td>\n",
       "      <td>False</td>\n",
       "      <td>False</td>\n",
       "      <td>False</td>\n",
       "    </tr>\n",
       "    <tr>\n",
       "      <th>6</th>\n",
       "      <td>False</td>\n",
       "      <td>True</td>\n",
       "      <td>False</td>\n",
       "      <td>True</td>\n",
       "      <td>False</td>\n",
       "      <td>True</td>\n",
       "    </tr>\n",
       "  </tbody>\n",
       "</table>\n",
       "</div>"
      ],
      "text/plain": [
       "       1      2      3      4      5      6\n",
       "1  False  False  False  False  False  False\n",
       "2  False   True  False   True  False   True\n",
       "3  False  False  False  False  False  False\n",
       "4  False   True  False   True  False   True\n",
       "5  False  False  False  False  False  False\n",
       "6  False   True  False   True  False   True"
      ]
     },
     "execution_count": 22,
     "metadata": {},
     "output_type": "execute_result"
    }
   ],
   "source": [
    "df_a & df_b"
   ]
  },
  {
   "cell_type": "code",
   "execution_count": 31,
   "metadata": {},
   "outputs": [],
   "source": [
    "def red_color(value):\n",
    "    return 'color: #27FF55' if value else ''"
   ]
  },
  {
   "cell_type": "code",
   "execution_count": 32,
   "metadata": {},
   "outputs": [
    {
     "name": "stderr",
     "output_type": "stream",
     "text": [
      "C:\\Users\\pavel\\AppData\\Local\\Temp\\ipykernel_21972\\2481681514.py:1: FutureWarning: Styler.applymap has been deprecated. Use Styler.map instead.\n",
      "  df_a.style.applymap(red_color)\n"
     ]
    },
    {
     "data": {
      "text/html": [
       "<style type=\"text/css\">\n",
       "#T_19645_row1_col0, #T_19645_row1_col1, #T_19645_row1_col2, #T_19645_row1_col3, #T_19645_row1_col4, #T_19645_row1_col5, #T_19645_row3_col0, #T_19645_row3_col1, #T_19645_row3_col2, #T_19645_row3_col3, #T_19645_row3_col4, #T_19645_row3_col5, #T_19645_row5_col0, #T_19645_row5_col1, #T_19645_row5_col2, #T_19645_row5_col3, #T_19645_row5_col4, #T_19645_row5_col5 {\n",
       "  color: #27FF55;\n",
       "}\n",
       "</style>\n",
       "<table id=\"T_19645\">\n",
       "  <thead>\n",
       "    <tr>\n",
       "      <th class=\"blank level0\" >&nbsp;</th>\n",
       "      <th id=\"T_19645_level0_col0\" class=\"col_heading level0 col0\" >1</th>\n",
       "      <th id=\"T_19645_level0_col1\" class=\"col_heading level0 col1\" >2</th>\n",
       "      <th id=\"T_19645_level0_col2\" class=\"col_heading level0 col2\" >3</th>\n",
       "      <th id=\"T_19645_level0_col3\" class=\"col_heading level0 col3\" >4</th>\n",
       "      <th id=\"T_19645_level0_col4\" class=\"col_heading level0 col4\" >5</th>\n",
       "      <th id=\"T_19645_level0_col5\" class=\"col_heading level0 col5\" >6</th>\n",
       "    </tr>\n",
       "  </thead>\n",
       "  <tbody>\n",
       "    <tr>\n",
       "      <th id=\"T_19645_level0_row0\" class=\"row_heading level0 row0\" >1</th>\n",
       "      <td id=\"T_19645_row0_col0\" class=\"data row0 col0\" >False</td>\n",
       "      <td id=\"T_19645_row0_col1\" class=\"data row0 col1\" >False</td>\n",
       "      <td id=\"T_19645_row0_col2\" class=\"data row0 col2\" >False</td>\n",
       "      <td id=\"T_19645_row0_col3\" class=\"data row0 col3\" >False</td>\n",
       "      <td id=\"T_19645_row0_col4\" class=\"data row0 col4\" >False</td>\n",
       "      <td id=\"T_19645_row0_col5\" class=\"data row0 col5\" >False</td>\n",
       "    </tr>\n",
       "    <tr>\n",
       "      <th id=\"T_19645_level0_row1\" class=\"row_heading level0 row1\" >2</th>\n",
       "      <td id=\"T_19645_row1_col0\" class=\"data row1 col0\" >True</td>\n",
       "      <td id=\"T_19645_row1_col1\" class=\"data row1 col1\" >True</td>\n",
       "      <td id=\"T_19645_row1_col2\" class=\"data row1 col2\" >True</td>\n",
       "      <td id=\"T_19645_row1_col3\" class=\"data row1 col3\" >True</td>\n",
       "      <td id=\"T_19645_row1_col4\" class=\"data row1 col4\" >True</td>\n",
       "      <td id=\"T_19645_row1_col5\" class=\"data row1 col5\" >True</td>\n",
       "    </tr>\n",
       "    <tr>\n",
       "      <th id=\"T_19645_level0_row2\" class=\"row_heading level0 row2\" >3</th>\n",
       "      <td id=\"T_19645_row2_col0\" class=\"data row2 col0\" >False</td>\n",
       "      <td id=\"T_19645_row2_col1\" class=\"data row2 col1\" >False</td>\n",
       "      <td id=\"T_19645_row2_col2\" class=\"data row2 col2\" >False</td>\n",
       "      <td id=\"T_19645_row2_col3\" class=\"data row2 col3\" >False</td>\n",
       "      <td id=\"T_19645_row2_col4\" class=\"data row2 col4\" >False</td>\n",
       "      <td id=\"T_19645_row2_col5\" class=\"data row2 col5\" >False</td>\n",
       "    </tr>\n",
       "    <tr>\n",
       "      <th id=\"T_19645_level0_row3\" class=\"row_heading level0 row3\" >4</th>\n",
       "      <td id=\"T_19645_row3_col0\" class=\"data row3 col0\" >True</td>\n",
       "      <td id=\"T_19645_row3_col1\" class=\"data row3 col1\" >True</td>\n",
       "      <td id=\"T_19645_row3_col2\" class=\"data row3 col2\" >True</td>\n",
       "      <td id=\"T_19645_row3_col3\" class=\"data row3 col3\" >True</td>\n",
       "      <td id=\"T_19645_row3_col4\" class=\"data row3 col4\" >True</td>\n",
       "      <td id=\"T_19645_row3_col5\" class=\"data row3 col5\" >True</td>\n",
       "    </tr>\n",
       "    <tr>\n",
       "      <th id=\"T_19645_level0_row4\" class=\"row_heading level0 row4\" >5</th>\n",
       "      <td id=\"T_19645_row4_col0\" class=\"data row4 col0\" >False</td>\n",
       "      <td id=\"T_19645_row4_col1\" class=\"data row4 col1\" >False</td>\n",
       "      <td id=\"T_19645_row4_col2\" class=\"data row4 col2\" >False</td>\n",
       "      <td id=\"T_19645_row4_col3\" class=\"data row4 col3\" >False</td>\n",
       "      <td id=\"T_19645_row4_col4\" class=\"data row4 col4\" >False</td>\n",
       "      <td id=\"T_19645_row4_col5\" class=\"data row4 col5\" >False</td>\n",
       "    </tr>\n",
       "    <tr>\n",
       "      <th id=\"T_19645_level0_row5\" class=\"row_heading level0 row5\" >6</th>\n",
       "      <td id=\"T_19645_row5_col0\" class=\"data row5 col0\" >True</td>\n",
       "      <td id=\"T_19645_row5_col1\" class=\"data row5 col1\" >True</td>\n",
       "      <td id=\"T_19645_row5_col2\" class=\"data row5 col2\" >True</td>\n",
       "      <td id=\"T_19645_row5_col3\" class=\"data row5 col3\" >True</td>\n",
       "      <td id=\"T_19645_row5_col4\" class=\"data row5 col4\" >True</td>\n",
       "      <td id=\"T_19645_row5_col5\" class=\"data row5 col5\" >True</td>\n",
       "    </tr>\n",
       "  </tbody>\n",
       "</table>\n"
      ],
      "text/plain": [
       "<pandas.io.formats.style.Styler at 0x22f5850b650>"
      ]
     },
     "execution_count": 32,
     "metadata": {},
     "output_type": "execute_result"
    }
   ],
   "source": [
    "df_a.style.applymap(red_color)"
   ]
  },
  {
   "cell_type": "code",
   "execution_count": 36,
   "metadata": {},
   "outputs": [
    {
     "data": {
      "text/html": [
       "<style type=\"text/css\">\n",
       "#T_d1896_row1_col1, #T_d1896_row1_col3, #T_d1896_row1_col5, #T_d1896_row3_col1, #T_d1896_row3_col3, #T_d1896_row3_col5, #T_d1896_row5_col1, #T_d1896_row5_col3, #T_d1896_row5_col5 {\n",
       "  color: #27FF55;\n",
       "}\n",
       "</style>\n",
       "<table id=\"T_d1896\">\n",
       "  <thead>\n",
       "    <tr>\n",
       "      <th class=\"blank level0\" >&nbsp;</th>\n",
       "      <th id=\"T_d1896_level0_col0\" class=\"col_heading level0 col0\" >1</th>\n",
       "      <th id=\"T_d1896_level0_col1\" class=\"col_heading level0 col1\" >2</th>\n",
       "      <th id=\"T_d1896_level0_col2\" class=\"col_heading level0 col2\" >3</th>\n",
       "      <th id=\"T_d1896_level0_col3\" class=\"col_heading level0 col3\" >4</th>\n",
       "      <th id=\"T_d1896_level0_col4\" class=\"col_heading level0 col4\" >5</th>\n",
       "      <th id=\"T_d1896_level0_col5\" class=\"col_heading level0 col5\" >6</th>\n",
       "    </tr>\n",
       "  </thead>\n",
       "  <tbody>\n",
       "    <tr>\n",
       "      <th id=\"T_d1896_level0_row0\" class=\"row_heading level0 row0\" >1</th>\n",
       "      <td id=\"T_d1896_row0_col0\" class=\"data row0 col0\" >False</td>\n",
       "      <td id=\"T_d1896_row0_col1\" class=\"data row0 col1\" >False</td>\n",
       "      <td id=\"T_d1896_row0_col2\" class=\"data row0 col2\" >False</td>\n",
       "      <td id=\"T_d1896_row0_col3\" class=\"data row0 col3\" >False</td>\n",
       "      <td id=\"T_d1896_row0_col4\" class=\"data row0 col4\" >False</td>\n",
       "      <td id=\"T_d1896_row0_col5\" class=\"data row0 col5\" >False</td>\n",
       "    </tr>\n",
       "    <tr>\n",
       "      <th id=\"T_d1896_level0_row1\" class=\"row_heading level0 row1\" >2</th>\n",
       "      <td id=\"T_d1896_row1_col0\" class=\"data row1 col0\" >False</td>\n",
       "      <td id=\"T_d1896_row1_col1\" class=\"data row1 col1\" >True</td>\n",
       "      <td id=\"T_d1896_row1_col2\" class=\"data row1 col2\" >False</td>\n",
       "      <td id=\"T_d1896_row1_col3\" class=\"data row1 col3\" >True</td>\n",
       "      <td id=\"T_d1896_row1_col4\" class=\"data row1 col4\" >False</td>\n",
       "      <td id=\"T_d1896_row1_col5\" class=\"data row1 col5\" >True</td>\n",
       "    </tr>\n",
       "    <tr>\n",
       "      <th id=\"T_d1896_level0_row2\" class=\"row_heading level0 row2\" >3</th>\n",
       "      <td id=\"T_d1896_row2_col0\" class=\"data row2 col0\" >False</td>\n",
       "      <td id=\"T_d1896_row2_col1\" class=\"data row2 col1\" >False</td>\n",
       "      <td id=\"T_d1896_row2_col2\" class=\"data row2 col2\" >False</td>\n",
       "      <td id=\"T_d1896_row2_col3\" class=\"data row2 col3\" >False</td>\n",
       "      <td id=\"T_d1896_row2_col4\" class=\"data row2 col4\" >False</td>\n",
       "      <td id=\"T_d1896_row2_col5\" class=\"data row2 col5\" >False</td>\n",
       "    </tr>\n",
       "    <tr>\n",
       "      <th id=\"T_d1896_level0_row3\" class=\"row_heading level0 row3\" >4</th>\n",
       "      <td id=\"T_d1896_row3_col0\" class=\"data row3 col0\" >False</td>\n",
       "      <td id=\"T_d1896_row3_col1\" class=\"data row3 col1\" >True</td>\n",
       "      <td id=\"T_d1896_row3_col2\" class=\"data row3 col2\" >False</td>\n",
       "      <td id=\"T_d1896_row3_col3\" class=\"data row3 col3\" >True</td>\n",
       "      <td id=\"T_d1896_row3_col4\" class=\"data row3 col4\" >False</td>\n",
       "      <td id=\"T_d1896_row3_col5\" class=\"data row3 col5\" >True</td>\n",
       "    </tr>\n",
       "    <tr>\n",
       "      <th id=\"T_d1896_level0_row4\" class=\"row_heading level0 row4\" >5</th>\n",
       "      <td id=\"T_d1896_row4_col0\" class=\"data row4 col0\" >False</td>\n",
       "      <td id=\"T_d1896_row4_col1\" class=\"data row4 col1\" >False</td>\n",
       "      <td id=\"T_d1896_row4_col2\" class=\"data row4 col2\" >False</td>\n",
       "      <td id=\"T_d1896_row4_col3\" class=\"data row4 col3\" >False</td>\n",
       "      <td id=\"T_d1896_row4_col4\" class=\"data row4 col4\" >False</td>\n",
       "      <td id=\"T_d1896_row4_col5\" class=\"data row4 col5\" >False</td>\n",
       "    </tr>\n",
       "    <tr>\n",
       "      <th id=\"T_d1896_level0_row5\" class=\"row_heading level0 row5\" >6</th>\n",
       "      <td id=\"T_d1896_row5_col0\" class=\"data row5 col0\" >False</td>\n",
       "      <td id=\"T_d1896_row5_col1\" class=\"data row5 col1\" >True</td>\n",
       "      <td id=\"T_d1896_row5_col2\" class=\"data row5 col2\" >False</td>\n",
       "      <td id=\"T_d1896_row5_col3\" class=\"data row5 col3\" >True</td>\n",
       "      <td id=\"T_d1896_row5_col4\" class=\"data row5 col4\" >False</td>\n",
       "      <td id=\"T_d1896_row5_col5\" class=\"data row5 col5\" >True</td>\n",
       "    </tr>\n",
       "  </tbody>\n",
       "</table>\n"
      ],
      "text/plain": [
       "<pandas.io.formats.style.Styler at 0x22f58a22ea0>"
      ]
     },
     "execution_count": 36,
     "metadata": {},
     "output_type": "execute_result"
    }
   ],
   "source": [
    "(df_a & df_b).style.map(red_color)"
   ]
  },
  {
   "cell_type": "code",
   "execution_count": 47,
   "metadata": {},
   "outputs": [
    {
     "data": {
      "text/plain": [
       "9"
      ]
     },
     "execution_count": 47,
     "metadata": {},
     "output_type": "execute_result"
    }
   ],
   "source": [
    "(df_a & df_b).melt()['value'].value_counts().reset_index().set_index('value').at[True, 'count']"
   ]
  },
  {
   "cell_type": "code",
   "execution_count": null,
   "metadata": {},
   "outputs": [],
   "source": []
  }
 ],
 "metadata": {
  "kernelspec": {
   "display_name": "env",
   "language": "python",
   "name": "python3"
  },
  "language_info": {
   "codemirror_mode": {
    "name": "ipython",
    "version": 3
   },
   "file_extension": ".py",
   "mimetype": "text/x-python",
   "name": "python",
   "nbconvert_exporter": "python",
   "pygments_lexer": "ipython3",
   "version": "3.12.3"
  }
 },
 "nbformat": 4,
 "nbformat_minor": 2
}
